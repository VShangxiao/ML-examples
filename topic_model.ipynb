{
 "cells": [
  {
   "cell_type": "markdown",
   "metadata": {},
   "source": [
    "# 主题模型\n",
    "《机器学习系统设计》第四章\n",
    "\n",
    "## 构建主题模型"
   ]
  },
  {
   "cell_type": "code",
   "execution_count": 3,
   "metadata": {
    "collapsed": false
   },
   "outputs": [],
   "source": [
    "from __future__ import print_function\n",
    "try:\n",
    "    from gensim import corpora, models, matutils\n",
    "except:\n",
    "    print(\"import gensim failed.\")\n",
    "    print()\n",
    "    print(\"Please install it\")\n",
    "    raise\n",
    "\n",
    "import numpy as np\n",
    "from os import path\n",
    "\n",
    "\n",
    "# Check that data exists\n",
    "if not path.exists('./data/ap/ap.dat'):\n",
    "    print('Error: Expected data to be present at data/ap/')\n",
    "    print('Please cd into ./data & run ./download_ap.sh')\n",
    "\n",
    "# Load the data\n",
    "corpus = corpora.BleiCorpus('./data/ap/ap.dat', './data/ap/vocab.txt')\n",
    "\n",
    "# Build the topic model\n",
    "NUM_TOPICS = 100\n",
    "model = models.ldamodel.LdaModel(\n",
    "    corpus, num_topics=NUM_TOPICS, id2word=corpus.id2word, alpha=None)"
   ]
  },
  {
   "cell_type": "code",
   "execution_count": 14,
   "metadata": {
    "collapsed": false
   },
   "outputs": [],
   "source": [
    "# Iterate over all the topics in the model\n",
    "for ti in range(model.num_topics):\n",
    "    words = model.show_topic(ti, 64)\n",
    "    tf = sum(float(f) for w, f in words)\n",
    "    with open('topics.txt', 'w') as output:\n",
    "        output.write('\\n'.join('{}:{}'.format(w, int(1000. * f / tf)) for w, f in words))\n",
    "        output.write(\"\\n\\n\\n\")"
   ]
  },
  {
   "cell_type": "code",
   "execution_count": 15,
   "metadata": {
    "collapsed": false
   },
   "outputs": [
    {
     "name": "stdout",
     "output_type": "stream",
     "text": [
      "maung:137\r\n",
      "ne:44\r\n",
      "government:41\r\n",
      "bus:24\r\n",
      "student:24\r\n",
      "people:23\r\n",
      "loosen:23\r\n",
      "defect:22\r\n",
      "students:21\r\n",
      "recalled:21\r\n"
     ]
    }
   ],
   "source": [
    "!head topics.txt"
   ]
  },
  {
   "cell_type": "code",
   "execution_count": 13,
   "metadata": {
    "collapsed": false
   },
   "outputs": [
    {
     "name": "stdout",
     "output_type": "stream",
     "text": [
      "81\n",
      "[(u'united', 0.01341787882576761), (u'government', 0.0095122178336425299), (u'states', 0.008255349418459762), (u'military', 0.0061243242953833077), (u'talks', 0.0060835713576801549), (u'president', 0.005960121794832067), (u'trade', 0.0056489140719439444), (u'yeutter', 0.0054065878112989308), (u'maxwell', 0.0043627557506549864), (u'rights', 0.0041507671438869237), (u'police', 0.004089778254546414), (u'new', 0.0040751633190375157), (u'two', 0.0040163320690871441), (u'macmillan', 0.0040048357688782414), (u'party', 0.0037560885647415633), (u'group', 0.0037447144045082825), (u'union', 0.0036402411391550497), (u'troops', 0.0035771565757063079), (u'state', 0.0035079125687670536), (u'farm', 0.0034539819504116622), (u'people', 0.0034384498661488155), (u'minister', 0.0034076505434825414), (u'subsidies', 0.0033905938696391726), (u'officials', 0.003346641931650394), (u'news', 0.0032050958078807638), (u'country', 0.0031892917064659837), (u'east', 0.0031644944946855377), (u'official', 0.003028959084716279), (u'international', 0.0029441741454607523), (u'ec', 0.0029293176530495535), (u'saying', 0.0029025230731828931), (u'told', 0.0028850698716413122), (u'constitution', 0.0028526961779763394), (u'foreign', 0.0028452099965852575), (u'american', 0.0027605002560094857), (u'last', 0.0027302859687772479), (u'civil', 0.0027002987829929811), (u'rebels', 0.0026890166080017078), (u'germany', 0.0026875102230408334), (u'soviet', 0.0026657867652816977), (u'west', 0.0025351440348960813), (u'leader', 0.0025143325502056495), (u'four', 0.0024904383926896375), (u'world', 0.0024787675989521494), (u'general', 0.0024757314429206139), (u'european', 0.0024449815664921199), (u'human', 0.0023738542946246813), (u'reporters', 0.0023494680237042317), (u'de', 0.0023224505415139138), (u'groups', 0.0022918409028042292), (u'threats', 0.0022818554576696849), (u'forces', 0.0022559769343790258), (u'wednesday', 0.0022089195840450373), (u'three', 0.0022042581661959326), (u'agreement', 0.0022042005491868313), (u'mrs', 0.0021912976737284407), (u'years', 0.0021893168261989389), (u'soldiers', 0.0021396730576721322), (u'made', 0.0021191518958312131), (u'army', 0.0021052597451272186), (u'anderson', 0.0020927586953455087), (u'war', 0.0020413543114530283), (u'major', 0.002041233632910696), (u'today', 0.002016122179215484)]\n"
     ]
    }
   ],
   "source": [
    "# We first identify the most discussed topic, i.e., the one with the\n",
    "# highest total weight\n",
    "topics = matutils.corpus2dense(model[corpus], num_terms=model.num_topics)\n",
    "weight = topics.sum(1)\n",
    "max_topic = weight.argmax()\n",
    "print (max_topic)\n",
    "\n",
    "# Get the top 64 words for this topic\n",
    "# Without the argument, show_topic would return only 10 words\n",
    "words = model.show_topic(max_topic, 64)\n",
    "print (words)"
   ]
  },
  {
   "cell_type": "markdown",
   "metadata": {},
   "source": [
    "从下图观察：大约150个文档包含了5个主题，大多数文档涵盖了10到12个主题。"
   ]
  },
  {
   "cell_type": "code",
   "execution_count": 20,
   "metadata": {
    "collapsed": false
   },
   "outputs": [
    {
     "data": {
      "image/png": "[encoded data removed]",
      "text/plain": [
       "<matplotlib.figure.Figure at 0x1163d7090>"
      ]
     },
     "metadata": {},
     "output_type": "display_data"
    }
   ],
   "source": [
    "%matplotlib inline\n",
    "import matplotlib.pyplot as plt\n",
    "\n",
    "num_topics_used = [len(model[doc]) for doc in corpus]\n",
    "fig, ax = plt.subplots()\n",
    "ax.hist(num_topics_used, np.arange(42))\n",
    "ax.set_ylabel('Nr of documents')\n",
    "ax.set_xlabel('Nr of topics')\n",
    "fig.tight_layout()"
   ]
  },
  {
   "cell_type": "markdown",
   "metadata": {},
   "source": [
    "alpha值会导致每个文档包含更多的主题。"
   ]
  },
  {
   "cell_type": "code",
   "execution_count": 17,
   "metadata": {
    "collapsed": false
   },
   "outputs": [
    {
     "data": {
      "image/png": "[encoded data removed]",
      "text/plain": [
       "<matplotlib.figure.Figure at 0x11156c910>"
      ]
     },
     "metadata": {},
     "output_type": "display_data"
    }
   ],
   "source": [
    "# Now, repeat the same exercise using alpha=1.0\n",
    "# You can edit the constant below to play around with this parameter\n",
    "ALPHA = 1.0\n",
    "\n",
    "model1 = models.ldamodel.LdaModel(\n",
    "    corpus, num_topics=NUM_TOPICS, id2word=corpus.id2word, alpha=ALPHA)\n",
    "num_topics_used1 = [len(model1[doc]) for doc in corpus]\n",
    "\n",
    "fig, ax = plt.subplots()\n",
    "ax.hist([num_topics_used, num_topics_used1], np.arange(42))\n",
    "ax.set_ylabel('Nr of documents')\n",
    "ax.set_xlabel('Nr of topics')\n",
    "\n",
    "# The coordinates below were fit by trial and error to look good\n",
    "ax.text(9, 223, r'default alpha')\n",
    "ax.text(26, 156, 'alpha=1.0')\n",
    "fig.tight_layout()"
   ]
  },
  {
   "cell_type": "markdown",
   "metadata": {},
   "source": [
    "## 在主题空间比较相似度\n",
    "根据两个文档是否描述相同主题来判断它们是否相似，而不是通过词与词的比较。"
   ]
  },
  {
   "cell_type": "code",
   "execution_count": 22,
   "metadata": {
    "collapsed": false
   },
   "outputs": [
    {
     "name": "stdout",
     "output_type": "stream",
     "text": [
      "From: geb@cs.pitt.edu (Gordon Banks)\n",
      "Subject: Re: request for information on \"essential tremor\" and Indrol?\n",
      "\n",
      "In article <1q1tbnINNnfn@life.ai.mit.edu> sundar@ai.mit.edu writes:\n",
      "\n",
      "Essential tremor is a progressive hereditary tremor that gets worse\n",
      "when the patient tries to use the effected member.  All limbs, vocal\n",
      "cords, and head can be involved.  Inderal is a beta-blocker and\n",
      "is usually effective in diminishing the tremor.  Alcohol and mysoline\n",
      "are also effective, but alcohol is too toxic to use as a treatment.\n",
      "-- \n",
      "----------------------------------------------------------------------------\n",
      "Gordon Banks  N3JXP      | \"Skepticism is the chastity of the intellect, and\n",
      "geb@cadre.dsl.pitt.edu   |  it is shameful to surrender it too soon.\" \n",
      "----------------------------------------------------------------------------\n",
      "\n",
      "++++++++++++++++++++++++++++++++++++++++++++++++++++++++++++++++++++++++++++++++++++++++++++++++++++\n",
      "From: rgc3679@bcstec.ca.boeing.com (Robert G. Carpenter)\n",
      "Subject: Please Recommend 3D Graphics Library For Mac.\n",
      "\n",
      "Hi Netters,\n",
      "\n",
      "I'm building a CAD package and need a 3D graphics library that can handle\n",
      "some rudimentry tasks, such as hidden line removal, shading, animation, etc.\n",
      "\n",
      "Can you please offer some recommendations?\n",
      "\n",
      "I'll also need contact info (name, address, email...) if you can find it.\n",
      "\n",
      "Thanks\n",
      "\n",
      "(Please Post Your Responses, in case others have same need)\n",
      "\n",
      "Bob Carpenter\n",
      "\n",
      "\n"
     ]
    }
   ],
   "source": [
    "from __future__ import print_function\n",
    "\n",
    "try:\n",
    "    import nltk.corpus\n",
    "except ImportError:\n",
    "    print(\"nltk not found\")\n",
    "    print(\"please install it\")\n",
    "    raise\n",
    "from scipy.spatial import distance\n",
    "import numpy as np\n",
    "from gensim import corpora, models\n",
    "import sklearn.datasets\n",
    "import nltk.stem\n",
    "from collections import defaultdict\n",
    "\n",
    "english_stemmer = nltk.stem.SnowballStemmer('english')\n",
    "stopwords = set(nltk.corpus.stopwords.words('english'))\n",
    "stopwords.update(['from:', 'subject:', 'writes:', 'writes'])\n",
    "\n",
    "\n",
    "class DirectText(corpora.textcorpus.TextCorpus):\n",
    "\n",
    "    def get_texts(self):\n",
    "        return self.input\n",
    "\n",
    "    def __len__(self):\n",
    "        return len(self.input)\n",
    "try:\n",
    "    dataset = sklearn.datasets.load_mlcomp(\"20news-18828\", \"train\",\n",
    "                                       mlcomp_root='./data')\n",
    "except:\n",
    "    print(\"Newsgroup data not found.\")\n",
    "    print(\"Please download from http://mlcomp.org/datasets/379\")\n",
    "    print(\"And expand the zip into the subdirectory data/\")\n",
    "    print()\n",
    "    print()\n",
    "    raise\n",
    "\n",
    "orig_texts = dataset.data\n",
    "texts = dataset.data\n",
    "\n",
    "texts = [t.decode('utf-8', 'ignore') for t in texts]\n",
    "texts = [t.split() for t in texts]  # 分词\n",
    "texts = [map(lambda w: w.lower(), t) for t in texts]  # 转小写\n",
    "texts = [filter(lambda s: not len(set(\"+-.?!()>@012345689\") & set(s)), t) for t in texts]  # 过滤得到英文单词\n",
    "texts = [filter(lambda s: (len(s) > 3) and (s not in stopwords), t) for t in texts]  # 过滤stop word和短单词\n",
    "texts = [map(english_stemmer.stem, t) for t in texts]  # 还原词干\n",
    "usage = defaultdict(int)\n",
    "for t in texts:  # t是一段文本\n",
    "    for w in set(t):\n",
    "        usage[w] += 1\n",
    "limit = len(texts) / 10\n",
    "too_common = [w for w in usage if usage[w] > limit]\n",
    "too_common = set(too_common)\n",
    "texts = [filter(lambda s: s not in too_common, t) for t in texts]  # 过滤出现频率过高的词\n",
    "\n",
    "corpus = DirectText(texts)\n",
    "dictionary = corpus.dictionary\n",
    "try:\n",
    "    dictionary['computer']\n",
    "except:\n",
    "    pass\n",
    "\n",
    "model = models.ldamodel.LdaModel(corpus, num_topics=100, id2word=dictionary.id2token)\n",
    "\n",
    "thetas = np.zeros((len(texts), 100))  # row:len(texts),col:100\n",
    "for i, c in enumerate(corpus):\n",
    "    for ti, v in model[c]:\n",
    "        thetas[i, ti] += v\n",
    "\n",
    "distances = distance.squareform(distance.pdist(thetas))  # sum[(ti-tj)^2]\n",
    "large = distances.max() + 1\n",
    "for i in range(len(distances)):  # 矩阵对角线上的元素设成较大的值,如果不设置,将会返回自己（自己和自己最相似）\n",
    "    distances[i, i] = large\n",
    "\n",
    "print(orig_texts[1])\n",
    "print('+' * 100)\n",
    "print(orig_texts[distances[1].argmin()])"
   ]
  },
  {
   "cell_type": "code",
   "execution_count": null,
   "metadata": {
    "collapsed": true
   },
   "outputs": [],
   "source": []
  }
 ],
 "metadata": {
  "kernelspec": {
   "display_name": "Python [Root]",
   "language": "python",
   "name": "Python [Root]"
  },
  "language_info": {
   "codemirror_mode": {
    "name": "ipython",
    "version": 2
   },
   "file_extension": ".py",
   "mimetype": "text/x-python",
   "name": "python",
   "nbconvert_exporter": "python",
   "pygments_lexer": "ipython2",
   "version": "2.7.12"
  }
 },
 "nbformat": 4,
 "nbformat_minor": 0
}
